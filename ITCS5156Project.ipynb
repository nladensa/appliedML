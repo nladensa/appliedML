{
  "nbformat": 4,
  "nbformat_minor": 0,
  "metadata": {
    "colab": {
      "provenance": [],
      "collapsed_sections": []
    },
    "kernelspec": {
      "name": "python3",
      "display_name": "Python 3"
    },
    "language_info": {
      "name": "python"
    }
  },
  "cells": [
    {
      "cell_type": "code",
      "source": [
        "!pip install transformers"
      ],
      "metadata": {
        "colab": {
          "base_uri": "https://localhost:8080/"
        },
        "id": "uH0IQ5V4UwZ2",
        "outputId": "b3ea9c5b-602c-4979-d781-a60b70dd121d"
      },
      "execution_count": 1,
      "outputs": [
        {
          "output_type": "stream",
          "name": "stdout",
          "text": [
            "Looking in indexes: https://pypi.org/simple, https://us-python.pkg.dev/colab-wheels/public/simple/\n",
            "Requirement already satisfied: transformers in /usr/local/lib/python3.7/dist-packages (4.22.2)\n",
            "Requirement already satisfied: tqdm>=4.27 in /usr/local/lib/python3.7/dist-packages (from transformers) (4.64.1)\n",
            "Requirement already satisfied: regex!=2019.12.17 in /usr/local/lib/python3.7/dist-packages (from transformers) (2022.6.2)\n",
            "Requirement already satisfied: requests in /usr/local/lib/python3.7/dist-packages (from transformers) (2.23.0)\n",
            "Requirement already satisfied: tokenizers!=0.11.3,<0.13,>=0.11.1 in /usr/local/lib/python3.7/dist-packages (from transformers) (0.12.1)\n",
            "Requirement already satisfied: numpy>=1.17 in /usr/local/lib/python3.7/dist-packages (from transformers) (1.21.6)\n",
            "Requirement already satisfied: importlib-metadata in /usr/local/lib/python3.7/dist-packages (from transformers) (5.0.0)\n",
            "Requirement already satisfied: packaging>=20.0 in /usr/local/lib/python3.7/dist-packages (from transformers) (21.3)\n",
            "Requirement already satisfied: huggingface-hub<1.0,>=0.9.0 in /usr/local/lib/python3.7/dist-packages (from transformers) (0.10.0)\n",
            "Requirement already satisfied: filelock in /usr/local/lib/python3.7/dist-packages (from transformers) (3.8.0)\n",
            "Requirement already satisfied: pyyaml>=5.1 in /usr/local/lib/python3.7/dist-packages (from transformers) (6.0)\n",
            "Requirement already satisfied: typing-extensions>=3.7.4.3 in /usr/local/lib/python3.7/dist-packages (from huggingface-hub<1.0,>=0.9.0->transformers) (4.1.1)\n",
            "Requirement already satisfied: pyparsing!=3.0.5,>=2.0.2 in /usr/local/lib/python3.7/dist-packages (from packaging>=20.0->transformers) (3.0.9)\n",
            "Requirement already satisfied: zipp>=0.5 in /usr/local/lib/python3.7/dist-packages (from importlib-metadata->transformers) (3.8.1)\n",
            "Requirement already satisfied: certifi>=2017.4.17 in /usr/local/lib/python3.7/dist-packages (from requests->transformers) (2022.9.24)\n",
            "Requirement already satisfied: urllib3!=1.25.0,!=1.25.1,<1.26,>=1.21.1 in /usr/local/lib/python3.7/dist-packages (from requests->transformers) (1.24.3)\n",
            "Requirement already satisfied: idna<3,>=2.5 in /usr/local/lib/python3.7/dist-packages (from requests->transformers) (2.10)\n",
            "Requirement already satisfied: chardet<4,>=3.0.2 in /usr/local/lib/python3.7/dist-packages (from requests->transformers) (3.0.4)\n"
          ]
        }
      ]
    },
    {
      "cell_type": "code",
      "execution_count": 2,
      "metadata": {
        "id": "1__21wC_qW8U"
      },
      "outputs": [],
      "source": [
        "import pandas as pd\n",
        "import transformers as trans\n",
        "import torch\n",
        "from torch.utils.data import Dataset, DataLoader"
      ]
    },
    {
      "cell_type": "code",
      "source": [
        "tokenizer = trans.BertTokenizer.from_pretrained('bert-base-uncased')\n",
        "device = torch.device(\"cuda\" if torch.cuda.is_available() else \"cpu\")\n",
        "\n",
        "# Values lowered in an effort to get the training to run on Google Collab\n",
        "batch_size = 4 # Change to 32 if possible\n",
        "epochs = 2 # Change to 15 if possible\n",
        "enc_lr = 0.00001\n",
        "lr = 0.0005\n",
        "\n",
        "device"
      ],
      "metadata": {
        "colab": {
          "base_uri": "https://localhost:8080/"
        },
        "id": "duorNjOEw-zk",
        "outputId": "1d72c0f0-05c4-4008-ea12-67c306c97fda"
      },
      "execution_count": 3,
      "outputs": [
        {
          "output_type": "execute_result",
          "data": {
            "text/plain": [
              "device(type='cpu')"
            ]
          },
          "metadata": {},
          "execution_count": 3
        }
      ]
    },
    {
      "cell_type": "code",
      "source": [
        "# Load datasets\n",
        "train_set = pd.read_json('sciad_train.json')\n",
        "dev_set = pd.read_json('sciad_dev.json')\n",
        "\n",
        "# Cut down size of datasets (hopefully won't run out of RAM)\n",
        "train = train_set.iloc[:4999, :]\n",
        "dev = dev_set.iloc[:458, :]\n",
        "train"
      ],
      "metadata": {
        "colab": {
          "base_uri": "https://localhost:8080/",
          "height": 423
        },
        "id": "TCl0OzEtx2ge",
        "outputId": "539dbe87-17a6-4dc1-b974-8bc513f59104"
      },
      "execution_count": 4,
      "outputs": [
        {
          "output_type": "execute_result",
          "data": {
            "text/plain": [
              "      acronym                     expansion       id  \\\n",
              "0          20                  secrecy rate     TR-0   \n",
              "1           6       markov geographic model     TR-1   \n",
              "2          10    graph convolution networks     TR-2   \n",
              "3          23           autonomic computing     TR-3   \n",
              "4           9  convolutional neural network     TR-4   \n",
              "...       ...                           ...      ...   \n",
              "4994        4        random neural networks  TR-5200   \n",
              "4995        3      latent semantic analysis  TR-5201   \n",
              "4996        7       collaborative filtering  TR-5202   \n",
              "4997        7              nash equilibrium  TR-5203   \n",
              "4998        3           unmet system demand  TR-5204   \n",
              "\n",
              "                                                 tokens  \n",
              "0     [In, summary, ,, it, is, evident, that, their,...  \n",
              "1     [The, main, objective, of, DDE, -, MGM, is, co...  \n",
              "2     [Especially, ,, there, is, the, smaller, desce...  \n",
              "3     [We, end, the, talk, inviting, the, community,...  \n",
              "4     [We, start, with, \", AlexNet, \", as, our, base...  \n",
              "...                                                 ...  \n",
              "4994  [To, adequately, train, the, RNN, ,, an, explo...  \n",
              "4995  [We, have, investigated, LSA, as, a, discovery...  \n",
              "4996  [Formally, ,, we, denote, the, dataset, for, C...  \n",
              "4997  [In, fact, this, new, class, of, cooperative, ...  \n",
              "4998  [Mathematically, ,, the, USD, is, expressed, a...  \n",
              "\n",
              "[4999 rows x 4 columns]"
            ],
            "text/html": [
              "\n",
              "  <div id=\"df-35e96f59-1add-4048-babd-68336e5ee5e0\">\n",
              "    <div class=\"colab-df-container\">\n",
              "      <div>\n",
              "<style scoped>\n",
              "    .dataframe tbody tr th:only-of-type {\n",
              "        vertical-align: middle;\n",
              "    }\n",
              "\n",
              "    .dataframe tbody tr th {\n",
              "        vertical-align: top;\n",
              "    }\n",
              "\n",
              "    .dataframe thead th {\n",
              "        text-align: right;\n",
              "    }\n",
              "</style>\n",
              "<table border=\"1\" class=\"dataframe\">\n",
              "  <thead>\n",
              "    <tr style=\"text-align: right;\">\n",
              "      <th></th>\n",
              "      <th>acronym</th>\n",
              "      <th>expansion</th>\n",
              "      <th>id</th>\n",
              "      <th>tokens</th>\n",
              "    </tr>\n",
              "  </thead>\n",
              "  <tbody>\n",
              "    <tr>\n",
              "      <th>0</th>\n",
              "      <td>20</td>\n",
              "      <td>secrecy rate</td>\n",
              "      <td>TR-0</td>\n",
              "      <td>[In, summary, ,, it, is, evident, that, their,...</td>\n",
              "    </tr>\n",
              "    <tr>\n",
              "      <th>1</th>\n",
              "      <td>6</td>\n",
              "      <td>markov geographic model</td>\n",
              "      <td>TR-1</td>\n",
              "      <td>[The, main, objective, of, DDE, -, MGM, is, co...</td>\n",
              "    </tr>\n",
              "    <tr>\n",
              "      <th>2</th>\n",
              "      <td>10</td>\n",
              "      <td>graph convolution networks</td>\n",
              "      <td>TR-2</td>\n",
              "      <td>[Especially, ,, there, is, the, smaller, desce...</td>\n",
              "    </tr>\n",
              "    <tr>\n",
              "      <th>3</th>\n",
              "      <td>23</td>\n",
              "      <td>autonomic computing</td>\n",
              "      <td>TR-3</td>\n",
              "      <td>[We, end, the, talk, inviting, the, community,...</td>\n",
              "    </tr>\n",
              "    <tr>\n",
              "      <th>4</th>\n",
              "      <td>9</td>\n",
              "      <td>convolutional neural network</td>\n",
              "      <td>TR-4</td>\n",
              "      <td>[We, start, with, \", AlexNet, \", as, our, base...</td>\n",
              "    </tr>\n",
              "    <tr>\n",
              "      <th>...</th>\n",
              "      <td>...</td>\n",
              "      <td>...</td>\n",
              "      <td>...</td>\n",
              "      <td>...</td>\n",
              "    </tr>\n",
              "    <tr>\n",
              "      <th>4994</th>\n",
              "      <td>4</td>\n",
              "      <td>random neural networks</td>\n",
              "      <td>TR-5200</td>\n",
              "      <td>[To, adequately, train, the, RNN, ,, an, explo...</td>\n",
              "    </tr>\n",
              "    <tr>\n",
              "      <th>4995</th>\n",
              "      <td>3</td>\n",
              "      <td>latent semantic analysis</td>\n",
              "      <td>TR-5201</td>\n",
              "      <td>[We, have, investigated, LSA, as, a, discovery...</td>\n",
              "    </tr>\n",
              "    <tr>\n",
              "      <th>4996</th>\n",
              "      <td>7</td>\n",
              "      <td>collaborative filtering</td>\n",
              "      <td>TR-5202</td>\n",
              "      <td>[Formally, ,, we, denote, the, dataset, for, C...</td>\n",
              "    </tr>\n",
              "    <tr>\n",
              "      <th>4997</th>\n",
              "      <td>7</td>\n",
              "      <td>nash equilibrium</td>\n",
              "      <td>TR-5203</td>\n",
              "      <td>[In, fact, this, new, class, of, cooperative, ...</td>\n",
              "    </tr>\n",
              "    <tr>\n",
              "      <th>4998</th>\n",
              "      <td>3</td>\n",
              "      <td>unmet system demand</td>\n",
              "      <td>TR-5204</td>\n",
              "      <td>[Mathematically, ,, the, USD, is, expressed, a...</td>\n",
              "    </tr>\n",
              "  </tbody>\n",
              "</table>\n",
              "<p>4999 rows × 4 columns</p>\n",
              "</div>\n",
              "      <button class=\"colab-df-convert\" onclick=\"convertToInteractive('df-35e96f59-1add-4048-babd-68336e5ee5e0')\"\n",
              "              title=\"Convert this dataframe to an interactive table.\"\n",
              "              style=\"display:none;\">\n",
              "        \n",
              "  <svg xmlns=\"http://www.w3.org/2000/svg\" height=\"24px\"viewBox=\"0 0 24 24\"\n",
              "       width=\"24px\">\n",
              "    <path d=\"M0 0h24v24H0V0z\" fill=\"none\"/>\n",
              "    <path d=\"M18.56 5.44l.94 2.06.94-2.06 2.06-.94-2.06-.94-.94-2.06-.94 2.06-2.06.94zm-11 1L8.5 8.5l.94-2.06 2.06-.94-2.06-.94L8.5 2.5l-.94 2.06-2.06.94zm10 10l.94 2.06.94-2.06 2.06-.94-2.06-.94-.94-2.06-.94 2.06-2.06.94z\"/><path d=\"M17.41 7.96l-1.37-1.37c-.4-.4-.92-.59-1.43-.59-.52 0-1.04.2-1.43.59L10.3 9.45l-7.72 7.72c-.78.78-.78 2.05 0 2.83L4 21.41c.39.39.9.59 1.41.59.51 0 1.02-.2 1.41-.59l7.78-7.78 2.81-2.81c.8-.78.8-2.07 0-2.86zM5.41 20L4 18.59l7.72-7.72 1.47 1.35L5.41 20z\"/>\n",
              "  </svg>\n",
              "      </button>\n",
              "      \n",
              "  <style>\n",
              "    .colab-df-container {\n",
              "      display:flex;\n",
              "      flex-wrap:wrap;\n",
              "      gap: 12px;\n",
              "    }\n",
              "\n",
              "    .colab-df-convert {\n",
              "      background-color: #E8F0FE;\n",
              "      border: none;\n",
              "      border-radius: 50%;\n",
              "      cursor: pointer;\n",
              "      display: none;\n",
              "      fill: #1967D2;\n",
              "      height: 32px;\n",
              "      padding: 0 0 0 0;\n",
              "      width: 32px;\n",
              "    }\n",
              "\n",
              "    .colab-df-convert:hover {\n",
              "      background-color: #E2EBFA;\n",
              "      box-shadow: 0px 1px 2px rgba(60, 64, 67, 0.3), 0px 1px 3px 1px rgba(60, 64, 67, 0.15);\n",
              "      fill: #174EA6;\n",
              "    }\n",
              "\n",
              "    [theme=dark] .colab-df-convert {\n",
              "      background-color: #3B4455;\n",
              "      fill: #D2E3FC;\n",
              "    }\n",
              "\n",
              "    [theme=dark] .colab-df-convert:hover {\n",
              "      background-color: #434B5C;\n",
              "      box-shadow: 0px 1px 3px 1px rgba(0, 0, 0, 0.15);\n",
              "      filter: drop-shadow(0px 1px 2px rgba(0, 0, 0, 0.3));\n",
              "      fill: #FFFFFF;\n",
              "    }\n",
              "  </style>\n",
              "\n",
              "      <script>\n",
              "        const buttonEl =\n",
              "          document.querySelector('#df-35e96f59-1add-4048-babd-68336e5ee5e0 button.colab-df-convert');\n",
              "        buttonEl.style.display =\n",
              "          google.colab.kernel.accessAllowed ? 'block' : 'none';\n",
              "\n",
              "        async function convertToInteractive(key) {\n",
              "          const element = document.querySelector('#df-35e96f59-1add-4048-babd-68336e5ee5e0');\n",
              "          const dataTable =\n",
              "            await google.colab.kernel.invokeFunction('convertToInteractive',\n",
              "                                                     [key], {});\n",
              "          if (!dataTable) return;\n",
              "\n",
              "          const docLinkHtml = 'Like what you see? Visit the ' +\n",
              "            '<a target=\"_blank\" href=https://colab.research.google.com/notebooks/data_table.ipynb>data table notebook</a>'\n",
              "            + ' to learn more about interactive tables.';\n",
              "          element.innerHTML = '';\n",
              "          dataTable['output_type'] = 'display_data';\n",
              "          await google.colab.output.renderOutput(dataTable, element);\n",
              "          const docLink = document.createElement('div');\n",
              "          docLink.innerHTML = docLinkHtml;\n",
              "          element.appendChild(docLink);\n",
              "        }\n",
              "      </script>\n",
              "    </div>\n",
              "  </div>\n",
              "  "
            ]
          },
          "metadata": {},
          "execution_count": 4
        }
      ]
    },
    {
      "cell_type": "code",
      "source": [
        "# Create custom Dataset class\n",
        "class CustomTextDataset(Dataset):\n",
        "    def __init__(self, txt, labels):\n",
        "        self.labels = labels\n",
        "        self.text = txt\n",
        "\n",
        "    def __len__(self):\n",
        "        return len(self.labels)\n",
        "\n",
        "    def __getitem__(self, idx):\n",
        "        label = self.labels[idx]\n",
        "        text = self.text[idx]\n",
        "        sample = {\"Text\": text, \"Expansion\": label}\n",
        "        return sample"
      ],
      "metadata": {
        "id": "VTbxjUIzWUse"
      },
      "execution_count": 5,
      "outputs": []
    },
    {
      "cell_type": "code",
      "source": [
        "# Add <start> and <end> tokens to tokens column\n",
        "for i in range(len(train['acronym'])):\n",
        "  chars = [s[0] for s in train.iloc[i, 1].split()]\n",
        "  acronym = ' '.join(chars)\n",
        "  acronym = acronym.upper().replace(\" \", \"\")\n",
        "  sent = ' '.join(train.iloc[i, 3])\n",
        "  if sent.find(acronym) != -1:\n",
        "    index = sent.find(acronym)\n",
        "    sent_w_tokens = sent[:index] + '<start>' + sent[index:index+len(acronym)] + '<end>' + sent[index+len(acronym):]\n",
        "    train.iloc[i, 3] = sent_w_tokens\n",
        "train"
      ],
      "metadata": {
        "colab": {
          "base_uri": "https://localhost:8080/",
          "height": 534
        },
        "id": "tFPmI6s7q2Ng",
        "outputId": "83827e35-47f9-4353-e7a1-5fc43b867ac5"
      },
      "execution_count": 6,
      "outputs": [
        {
          "output_type": "stream",
          "name": "stderr",
          "text": [
            "/usr/local/lib/python3.7/dist-packages/pandas/core/indexing.py:1817: SettingWithCopyWarning: \n",
            "A value is trying to be set on a copy of a slice from a DataFrame.\n",
            "Try using .loc[row_indexer,col_indexer] = value instead\n",
            "\n",
            "See the caveats in the documentation: https://pandas.pydata.org/pandas-docs/stable/user_guide/indexing.html#returning-a-view-versus-a-copy\n",
            "  self._setitem_single_column(loc, value, pi)\n"
          ]
        },
        {
          "output_type": "execute_result",
          "data": {
            "text/plain": [
              "      acronym                     expansion       id  \\\n",
              "0          20                  secrecy rate     TR-0   \n",
              "1           6       markov geographic model     TR-1   \n",
              "2          10    graph convolution networks     TR-2   \n",
              "3          23           autonomic computing     TR-3   \n",
              "4           9  convolutional neural network     TR-4   \n",
              "...       ...                           ...      ...   \n",
              "4994        4        random neural networks  TR-5200   \n",
              "4995        3      latent semantic analysis  TR-5201   \n",
              "4996        7       collaborative filtering  TR-5202   \n",
              "4997        7              nash equilibrium  TR-5203   \n",
              "4998        3           unmet system demand  TR-5204   \n",
              "\n",
              "                                                 tokens  \n",
              "0     In summary , it is evident that their complexi...  \n",
              "1     The main objective of DDE - <start>MGM<end> is...  \n",
              "2     Especially , there is the smaller descent of S...  \n",
              "3     We end the talk inviting the community to join...  \n",
              "4     We start with \" AlexNet \" as our base <start>C...  \n",
              "...                                                 ...  \n",
              "4994  To adequately train the <start>RNN<end> , an e...  \n",
              "4995  We have investigated <start>LSA<end> as a disc...  \n",
              "4996  Formally , we denote the dataset for <start>CF...  \n",
              "4997  In fact this new class of cooperative <start>N...  \n",
              "4998  Mathematically , the <start>USD<end> is expres...  \n",
              "\n",
              "[4999 rows x 4 columns]"
            ],
            "text/html": [
              "\n",
              "  <div id=\"df-870302f5-23f3-4409-b014-301b7fe35ce9\">\n",
              "    <div class=\"colab-df-container\">\n",
              "      <div>\n",
              "<style scoped>\n",
              "    .dataframe tbody tr th:only-of-type {\n",
              "        vertical-align: middle;\n",
              "    }\n",
              "\n",
              "    .dataframe tbody tr th {\n",
              "        vertical-align: top;\n",
              "    }\n",
              "\n",
              "    .dataframe thead th {\n",
              "        text-align: right;\n",
              "    }\n",
              "</style>\n",
              "<table border=\"1\" class=\"dataframe\">\n",
              "  <thead>\n",
              "    <tr style=\"text-align: right;\">\n",
              "      <th></th>\n",
              "      <th>acronym</th>\n",
              "      <th>expansion</th>\n",
              "      <th>id</th>\n",
              "      <th>tokens</th>\n",
              "    </tr>\n",
              "  </thead>\n",
              "  <tbody>\n",
              "    <tr>\n",
              "      <th>0</th>\n",
              "      <td>20</td>\n",
              "      <td>secrecy rate</td>\n",
              "      <td>TR-0</td>\n",
              "      <td>In summary , it is evident that their complexi...</td>\n",
              "    </tr>\n",
              "    <tr>\n",
              "      <th>1</th>\n",
              "      <td>6</td>\n",
              "      <td>markov geographic model</td>\n",
              "      <td>TR-1</td>\n",
              "      <td>The main objective of DDE - &lt;start&gt;MGM&lt;end&gt; is...</td>\n",
              "    </tr>\n",
              "    <tr>\n",
              "      <th>2</th>\n",
              "      <td>10</td>\n",
              "      <td>graph convolution networks</td>\n",
              "      <td>TR-2</td>\n",
              "      <td>Especially , there is the smaller descent of S...</td>\n",
              "    </tr>\n",
              "    <tr>\n",
              "      <th>3</th>\n",
              "      <td>23</td>\n",
              "      <td>autonomic computing</td>\n",
              "      <td>TR-3</td>\n",
              "      <td>We end the talk inviting the community to join...</td>\n",
              "    </tr>\n",
              "    <tr>\n",
              "      <th>4</th>\n",
              "      <td>9</td>\n",
              "      <td>convolutional neural network</td>\n",
              "      <td>TR-4</td>\n",
              "      <td>We start with \" AlexNet \" as our base &lt;start&gt;C...</td>\n",
              "    </tr>\n",
              "    <tr>\n",
              "      <th>...</th>\n",
              "      <td>...</td>\n",
              "      <td>...</td>\n",
              "      <td>...</td>\n",
              "      <td>...</td>\n",
              "    </tr>\n",
              "    <tr>\n",
              "      <th>4994</th>\n",
              "      <td>4</td>\n",
              "      <td>random neural networks</td>\n",
              "      <td>TR-5200</td>\n",
              "      <td>To adequately train the &lt;start&gt;RNN&lt;end&gt; , an e...</td>\n",
              "    </tr>\n",
              "    <tr>\n",
              "      <th>4995</th>\n",
              "      <td>3</td>\n",
              "      <td>latent semantic analysis</td>\n",
              "      <td>TR-5201</td>\n",
              "      <td>We have investigated &lt;start&gt;LSA&lt;end&gt; as a disc...</td>\n",
              "    </tr>\n",
              "    <tr>\n",
              "      <th>4996</th>\n",
              "      <td>7</td>\n",
              "      <td>collaborative filtering</td>\n",
              "      <td>TR-5202</td>\n",
              "      <td>Formally , we denote the dataset for &lt;start&gt;CF...</td>\n",
              "    </tr>\n",
              "    <tr>\n",
              "      <th>4997</th>\n",
              "      <td>7</td>\n",
              "      <td>nash equilibrium</td>\n",
              "      <td>TR-5203</td>\n",
              "      <td>In fact this new class of cooperative &lt;start&gt;N...</td>\n",
              "    </tr>\n",
              "    <tr>\n",
              "      <th>4998</th>\n",
              "      <td>3</td>\n",
              "      <td>unmet system demand</td>\n",
              "      <td>TR-5204</td>\n",
              "      <td>Mathematically , the &lt;start&gt;USD&lt;end&gt; is expres...</td>\n",
              "    </tr>\n",
              "  </tbody>\n",
              "</table>\n",
              "<p>4999 rows × 4 columns</p>\n",
              "</div>\n",
              "      <button class=\"colab-df-convert\" onclick=\"convertToInteractive('df-870302f5-23f3-4409-b014-301b7fe35ce9')\"\n",
              "              title=\"Convert this dataframe to an interactive table.\"\n",
              "              style=\"display:none;\">\n",
              "        \n",
              "  <svg xmlns=\"http://www.w3.org/2000/svg\" height=\"24px\"viewBox=\"0 0 24 24\"\n",
              "       width=\"24px\">\n",
              "    <path d=\"M0 0h24v24H0V0z\" fill=\"none\"/>\n",
              "    <path d=\"M18.56 5.44l.94 2.06.94-2.06 2.06-.94-2.06-.94-.94-2.06-.94 2.06-2.06.94zm-11 1L8.5 8.5l.94-2.06 2.06-.94-2.06-.94L8.5 2.5l-.94 2.06-2.06.94zm10 10l.94 2.06.94-2.06 2.06-.94-2.06-.94-.94-2.06-.94 2.06-2.06.94z\"/><path d=\"M17.41 7.96l-1.37-1.37c-.4-.4-.92-.59-1.43-.59-.52 0-1.04.2-1.43.59L10.3 9.45l-7.72 7.72c-.78.78-.78 2.05 0 2.83L4 21.41c.39.39.9.59 1.41.59.51 0 1.02-.2 1.41-.59l7.78-7.78 2.81-2.81c.8-.78.8-2.07 0-2.86zM5.41 20L4 18.59l7.72-7.72 1.47 1.35L5.41 20z\"/>\n",
              "  </svg>\n",
              "      </button>\n",
              "      \n",
              "  <style>\n",
              "    .colab-df-container {\n",
              "      display:flex;\n",
              "      flex-wrap:wrap;\n",
              "      gap: 12px;\n",
              "    }\n",
              "\n",
              "    .colab-df-convert {\n",
              "      background-color: #E8F0FE;\n",
              "      border: none;\n",
              "      border-radius: 50%;\n",
              "      cursor: pointer;\n",
              "      display: none;\n",
              "      fill: #1967D2;\n",
              "      height: 32px;\n",
              "      padding: 0 0 0 0;\n",
              "      width: 32px;\n",
              "    }\n",
              "\n",
              "    .colab-df-convert:hover {\n",
              "      background-color: #E2EBFA;\n",
              "      box-shadow: 0px 1px 2px rgba(60, 64, 67, 0.3), 0px 1px 3px 1px rgba(60, 64, 67, 0.15);\n",
              "      fill: #174EA6;\n",
              "    }\n",
              "\n",
              "    [theme=dark] .colab-df-convert {\n",
              "      background-color: #3B4455;\n",
              "      fill: #D2E3FC;\n",
              "    }\n",
              "\n",
              "    [theme=dark] .colab-df-convert:hover {\n",
              "      background-color: #434B5C;\n",
              "      box-shadow: 0px 1px 3px 1px rgba(0, 0, 0, 0.15);\n",
              "      filter: drop-shadow(0px 1px 2px rgba(0, 0, 0, 0.3));\n",
              "      fill: #FFFFFF;\n",
              "    }\n",
              "  </style>\n",
              "\n",
              "      <script>\n",
              "        const buttonEl =\n",
              "          document.querySelector('#df-870302f5-23f3-4409-b014-301b7fe35ce9 button.colab-df-convert');\n",
              "        buttonEl.style.display =\n",
              "          google.colab.kernel.accessAllowed ? 'block' : 'none';\n",
              "\n",
              "        async function convertToInteractive(key) {\n",
              "          const element = document.querySelector('#df-870302f5-23f3-4409-b014-301b7fe35ce9');\n",
              "          const dataTable =\n",
              "            await google.colab.kernel.invokeFunction('convertToInteractive',\n",
              "                                                     [key], {});\n",
              "          if (!dataTable) return;\n",
              "\n",
              "          const docLinkHtml = 'Like what you see? Visit the ' +\n",
              "            '<a target=\"_blank\" href=https://colab.research.google.com/notebooks/data_table.ipynb>data table notebook</a>'\n",
              "            + ' to learn more about interactive tables.';\n",
              "          element.innerHTML = '';\n",
              "          dataTable['output_type'] = 'display_data';\n",
              "          await google.colab.output.renderOutput(dataTable, element);\n",
              "          const docLink = document.createElement('div');\n",
              "          docLink.innerHTML = docLinkHtml;\n",
              "          element.appendChild(docLink);\n",
              "        }\n",
              "      </script>\n",
              "    </div>\n",
              "  </div>\n",
              "  "
            ]
          },
          "metadata": {},
          "execution_count": 6
        }
      ]
    },
    {
      "cell_type": "code",
      "source": [
        "# Store expansions for use as labels\n",
        "train_labels = []\n",
        "test_labels = []\n",
        "for i in range(len(train['acronym'])):\n",
        "  train_labels.append(''.join(train.iloc[i,1]))\n",
        "\n",
        "for i in range(len(dev['acronym'])):\n",
        "  test_labels.append(''.join(dev.iloc[i,1]))"
      ],
      "metadata": {
        "id": "VGfyxSZ8KuEu"
      },
      "execution_count": 7,
      "outputs": []
    },
    {
      "cell_type": "code",
      "source": [
        "# Prepare input for BERT encoder\n",
        "train_inputs = []\n",
        "test_inputs = []\n",
        "for i in range(len(train['acronym'])):\n",
        "  train_text = '[CLS]' + ''.join(train.iloc[i, 1]) + '[SEP]' + ''.join(train.iloc[i, 3]) + '[SEP]'\n",
        "  train_inputs.append(train_text)\n",
        "\n",
        "for i in range(len(dev['acronym'])):\n",
        "  test_text = '[CLS]' + ''.join(dev.iloc[i, 1]) + '[SEP]' + ''.join(dev.iloc[i, 3]) + '[SEP]'\n",
        "  test_inputs.append(test_text)"
      ],
      "metadata": {
        "id": "Rus-_uDlW0TI"
      },
      "execution_count": 8,
      "outputs": []
    },
    {
      "cell_type": "code",
      "source": [
        "print(train_labels[6])\n",
        "print(train_inputs[6])"
      ],
      "metadata": {
        "colab": {
          "base_uri": "https://localhost:8080/"
        },
        "id": "gX8bBqxvsCRO",
        "outputId": "7dad802b-c66d-47da-e4e4-f84cfdff31f8"
      },
      "execution_count": 9,
      "outputs": [
        {
          "output_type": "stream",
          "name": "stdout",
          "text": [
            "computed tomography\n",
            "[CLS]computed tomography[SEP]The database is constructed from 915 clinical <start>CT<end> volumes consisting of head and neck images .[SEP]\n"
          ]
        }
      ]
    },
    {
      "cell_type": "code",
      "source": [
        "# Instantiate Dataset and DataLoader objects\n",
        "train_dataset = CustomTextDataset(train_inputs, train_labels)\n",
        "test_dataset = CustomTextDataset(test_inputs, test_labels)\n",
        "\n",
        "train_dl = DataLoader(train_dataset, batch_size=batch_size)\n",
        "test_dl = DataLoader(test_dataset, batch_size=batch_size, num_workers=2)"
      ],
      "metadata": {
        "id": "jye7lrcgwd1q"
      },
      "execution_count": 10,
      "outputs": []
    },
    {
      "cell_type": "code",
      "source": [
        "train_labels[6]"
      ],
      "metadata": {
        "colab": {
          "base_uri": "https://localhost:8080/",
          "height": 36
        },
        "id": "3mSnVnSRqg1P",
        "outputId": "bfbc4e89-febe-41b3-e64e-9ec88d469dde"
      },
      "execution_count": 11,
      "outputs": [
        {
          "output_type": "execute_result",
          "data": {
            "text/plain": [
              "'computed tomography'"
            ],
            "application/vnd.google.colaboratory.intrinsic+json": {
              "type": "string"
            }
          },
          "metadata": {},
          "execution_count": 11
        }
      ]
    },
    {
      "cell_type": "code",
      "source": [
        "# Create custom model class\n",
        "class CustomModel(torch.nn.Module):\n",
        "  def __init__(self):\n",
        "    super(CustomModel, self).__init__()\n",
        "    self.bert = trans.BertModel.from_pretrained('bert-base-uncased')\n",
        "    embedding_dim = self.bert.config.to_dict()['hidden_size']\n",
        "    self.dropout1 = torch.nn.Dropout(0.2)\n",
        "    self.dense1 = torch.nn.Linear(embedding_dim, 128)\n",
        "    self.relu = torch.nn.ReLU()\n",
        "    self.dropout2 = torch.nn.Dropout(0.1)\n",
        "    self.dense2 = torch.nn.Linear(128, 1)\n",
        "    self.sigmoid = torch.nn.Sigmoid()\n",
        "\n",
        "  def forward(self, encoding):\n",
        "    sequence_output, pooled_output = self.bert(encoding.input_ids, attention_mask=encoding.attention_mask) #get [CLS] representation w/ outputs[0][:,0,:]\n",
        "    dropout1_output = self.dropout1(sequence_output)\n",
        "    dense1_output = self.dense1(dropout1_output)\n",
        "    relu_output = self.relu(dense1_output)\n",
        "    dropout2_output = self.dropout2(relu_output)\n",
        "    dense2_output = self.dense2(dropout2_output)\n",
        "    sigmoid_output = self.sigmoid(dense2_output)\n",
        "    return sigmoid_output"
      ],
      "metadata": {
        "id": "iUCE239Gxu47"
      },
      "execution_count": 12,
      "outputs": []
    },
    {
      "cell_type": "code",
      "source": [
        "# Instantiate model and optimizer\n",
        "model = CustomModel().to(device)\n",
        "criterion = torch.nn.MSELoss()\n",
        "optimizer = torch.optim.Adam(model.parameters(), lr=lr)"
      ],
      "metadata": {
        "colab": {
          "base_uri": "https://localhost:8080/"
        },
        "id": "3UnSfcGLGiCn",
        "outputId": "0db33bc8-19eb-4cb7-860d-8a7c7e44c832"
      },
      "execution_count": 13,
      "outputs": [
        {
          "output_type": "stream",
          "name": "stderr",
          "text": [
            "Some weights of the model checkpoint at bert-base-uncased were not used when initializing BertModel: ['cls.predictions.decoder.weight', 'cls.seq_relationship.weight', 'cls.seq_relationship.bias', 'cls.predictions.transform.dense.bias', 'cls.predictions.transform.dense.weight', 'cls.predictions.bias', 'cls.predictions.transform.LayerNorm.weight', 'cls.predictions.transform.LayerNorm.bias']\n",
            "- This IS expected if you are initializing BertModel from the checkpoint of a model trained on another task or with another architecture (e.g. initializing a BertForSequenceClassification model from a BertForPreTraining model).\n",
            "- This IS NOT expected if you are initializing BertModel from the checkpoint of a model that you expect to be exactly identical (initializing a BertForSequenceClassification model from a BertForSequenceClassification model).\n"
          ]
        }
      ]
    },
    {
      "cell_type": "code",
      "source": [
        "# To calculate accuracy\n",
        "def categorical_accuracy(preds, y):\n",
        "    max_preds = preds.argmax(dim = 1, keepdim = True)\n",
        "    correct = (max_preds.squeeze(1)==y).float()\n",
        "    return correct.sum() / len(y)"
      ],
      "metadata": {
        "id": "2_MvRn-j1Gc8"
      },
      "execution_count": 14,
      "outputs": []
    },
    {
      "cell_type": "code",
      "source": [
        "# Train model\n",
        "for epoch in range(epochs):\n",
        "  epoch_loss = 0\n",
        "  epoch_acc = 0\n",
        "  for idx, batch in enumerate(train_dl):\n",
        "    data = batch['Text']\n",
        "    targets = batch['Expansion']\n",
        "    optimizer.zero_grad()\n",
        "    torch.cuda.empty_cache()   \n",
        "    train_encoding = tokenizer.batch_encode_plus(train_inputs, padding=True, truncation=True, return_tensors='pt')\n",
        "    outputs = model(train_encoding)\n",
        "    loss = criterion(outputs, targets)\n",
        "    acc = categorical_accuracy(outputs, targets)\n",
        "    loss.backward()\n",
        "    optimizer.step()\n",
        "    epoch_loss += loss.item()\n",
        "    epoch_acc += acc.item()\n",
        "\n",
        "  train_loss = epoch_loss / len(train_dl)\n",
        "  train_acc = epoch_acc / len(train_dl)"
      ],
      "metadata": {
        "id": "1jmAMveS76rP"
      },
      "execution_count": null,
      "outputs": []
    },
    {
      "cell_type": "code",
      "source": [
        "# Test model\n",
        "test_encoding = tokenizer.encode_plus(test_inputs, truncation=True, return_tensors='pt')\n",
        "test_label_encoding = tokenizer.encode_plus(test_labels, return_tensors='pt')"
      ],
      "metadata": {
        "id": "8-VlUoV8ava_"
      },
      "execution_count": null,
      "outputs": []
    },
    {
      "cell_type": "code",
      "source": [
        "# Display metrics (Precision, Recall, F1)"
      ],
      "metadata": {
        "id": "nt1_t7Pot-eN"
      },
      "execution_count": null,
      "outputs": []
    }
  ]
}